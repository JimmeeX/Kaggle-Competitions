{
 "cells": [
  {
   "cell_type": "code",
   "execution_count": 4,
   "metadata": {
    "collapsed": true
   },
   "outputs": [],
   "source": [
    "import numpy as np\n",
    "import pandas as pd\n",
    "import matplotlib.pyplot as plt\n",
    "from sklearn.model_selection import train_test_split\n",
    "from keras.models import Sequential\n",
    "from keras.layers import Dense, Activation, Dropout, Conv2D, MaxPooling2D, Flatten\n",
    "from keras.utils import plot_model\n",
    "from keras.utils.vis_utils import model_to_dot\n",
    "from IPython.display import SVG\n",
    "%matplotlib inline"
   ]
  },
  {
   "cell_type": "markdown",
   "metadata": {},
   "source": [
    "##### Import data from train.csv downloaded from Kaggle https://www.kaggle.com/c/digit-recognizer"
   ]
  },
  {
   "cell_type": "code",
   "execution_count": 6,
   "metadata": {
    "collapsed": true
   },
   "outputs": [],
   "source": [
    "df = pd.read_csv(\"train.csv\")"
   ]
  },
  {
   "cell_type": "markdown",
   "metadata": {},
   "source": [
    "Split the data into features (x) and labels (y). Here, df has a column \"label,\" and 784 columns representing 784 pixels of the 28x28 image. Each cell has a value from 0~255 representing shades of grey. We will scale the data to 0 ~ 1 to prevent numbers from reaching very large."
   ]
  },
  {
   "cell_type": "code",
   "execution_count": 7,
   "metadata": {
    "collapsed": true
   },
   "outputs": [],
   "source": [
    "y = df.pop(\"label\")\n",
    "x = df / 255"
   ]
  },
  {
   "cell_type": "markdown",
   "metadata": {},
   "source": [
    "### Useful Parameters: ###\n",
    "\n",
    "x_train: Features for the training data\n",
    "\n",
    "x_val: Features for the validation data\n",
    "\n",
    "y_train: Labels for the training data\n",
    "\n",
    "y_val: Labels for the validation data\n",
    "\n",
    "m_train: Number of training data sets\n",
    "\n",
    "m_val: Number of validation data sets\n",
    "\n",
    "n: Number of features\n",
    "\n",
    "y_train_target: One Hot Encode values for y_train\n",
    "\n",
    "y_val_target: One Hot Encode values for y_val\n",
    "\n",
    "num_classes: Number of possible classifications (10 for 10 digits)"
   ]
  },
  {
   "cell_type": "code",
   "execution_count": 8,
   "metadata": {
    "collapsed": true
   },
   "outputs": [],
   "source": [
    "x_train, x_val, y_train, y_val = train_test_split(x.values, y.values, test_size=0.2)\n",
    "m_train = x_train.shape[0]\n",
    "m_val = x_val.shape[0]\n",
    "n = x_train.shape[1]\n",
    "y_train_target = pd.get_dummies(y_train).values\n",
    "y_val_target = pd.get_dummies(y_val).values\n",
    "num_classes = y_val_target.shape[1]"
   ]
  },
  {
   "cell_type": "markdown",
   "metadata": {},
   "source": [
    "Here, we create our Neural Network model to train our data.\n",
    "My first model is a simple feedforward fully-connected neural network.\n",
    "\n",
    "Input -> Fully Connected Layer -> Dropout -> Output"
   ]
  },
  {
   "cell_type": "code",
   "execution_count": 61,
   "metadata": {},
   "outputs": [
    {
     "name": "stdout",
     "output_type": "stream",
     "text": [
      "Epoch 1/20\n",
      "33600/33600 [==============================] - 2s - loss: 0.4520 - acc: 0.8710     \n",
      "Epoch 2/20\n",
      "33600/33600 [==============================] - 1s - loss: 0.2111 - acc: 0.9395     \n",
      "Epoch 3/20\n",
      "33600/33600 [==============================] - 1s - loss: 0.1559 - acc: 0.9560     \n",
      "Epoch 4/20\n",
      "33600/33600 [==============================] - 1s - loss: 0.1244 - acc: 0.9646     \n",
      "Epoch 5/20\n",
      "33600/33600 [==============================] - 1s - loss: 0.1042 - acc: 0.9690     \n",
      "Epoch 6/20\n",
      "33600/33600 [==============================] - 2s - loss: 0.0864 - acc: 0.9760     \n",
      "Epoch 7/20\n",
      "33600/33600 [==============================] - 1s - loss: 0.0746 - acc: 0.9778     \n",
      "Epoch 8/20\n",
      "33600/33600 [==============================] - 1s - loss: 0.0666 - acc: 0.9803     \n",
      "Epoch 9/20\n",
      "33600/33600 [==============================] - 2s - loss: 0.0582 - acc: 0.9824     \n",
      "Epoch 10/20\n",
      "33600/33600 [==============================] - 2s - loss: 0.0505 - acc: 0.9845     \n",
      "Epoch 11/20\n",
      "33600/33600 [==============================] - 2s - loss: 0.0460 - acc: 0.9863     \n",
      "Epoch 12/20\n",
      "33600/33600 [==============================] - 2s - loss: 0.0397 - acc: 0.9885     \n",
      "Epoch 13/20\n",
      "33600/33600 [==============================] - 1s - loss: 0.0348 - acc: 0.9899     \n",
      "Epoch 14/20\n",
      "33600/33600 [==============================] - 1s - loss: 0.0328 - acc: 0.9905     \n",
      "Epoch 15/20\n",
      "33600/33600 [==============================] - 1s - loss: 0.0297 - acc: 0.9915     \n",
      "Epoch 16/20\n",
      "33600/33600 [==============================] - 1s - loss: 0.0277 - acc: 0.9919     \n",
      "Epoch 17/20\n",
      "33600/33600 [==============================] - 2s - loss: 0.0255 - acc: 0.9928     \n",
      "Epoch 18/20\n",
      "33600/33600 [==============================] - 2s - loss: 0.0235 - acc: 0.9933     \n",
      "Epoch 19/20\n",
      "33600/33600 [==============================] - 2s - loss: 0.0218 - acc: 0.9936     \n",
      "Epoch 20/20\n",
      "33600/33600 [==============================] - 1s - loss: 0.0182 - acc: 0.9950     \n"
     ]
    },
    {
     "data": {
      "text/plain": [
       "<keras.callbacks.History at 0x12aca0550>"
      ]
     },
     "execution_count": 61,
     "metadata": {},
     "output_type": "execute_result"
    }
   ],
   "source": [
    "# Create Neural Network Model\n",
    "model = Sequential()\n",
    "model.add(Dense(200, activation='relu', input_dim=n))\n",
    "model.add(Dropout(0.2))\n",
    "model.add(Dense(10, activation='softmax'))\n",
    "model.compile(optimizer='adam', loss='categorical_crossentropy', metrics=['accuracy'])\n",
    "model.fit(x_train, y_train_target, epochs=20, batch_size=128)"
   ]
  },
  {
   "cell_type": "code",
   "execution_count": 62,
   "metadata": {},
   "outputs": [
    {
     "name": "stdout",
     "output_type": "stream",
     "text": [
      "7776/8400 [==========================>...] - ETA: 0s"
     ]
    }
   ],
   "source": [
    "score = model.evaluate(x_val, y_val_target)"
   ]
  },
  {
   "cell_type": "markdown",
   "metadata": {},
   "source": [
    "Attempt at another neural network model using Convolutions. Firstly, we need to reshape our training features to a (Batch Size) x 28 (Image Length) x 28 (Image Width) x 1 (Colour Channels) matrix"
   ]
  },
  {
   "cell_type": "code",
   "execution_count": 9,
   "metadata": {},
   "outputs": [
    {
     "data": {
      "text/plain": [
       "(28, 28, 1)"
      ]
     },
     "execution_count": 9,
     "metadata": {},
     "output_type": "execute_result"
    }
   ],
   "source": [
    "temp = np.reshape(x_train, [-1, 28, 28, 1])\n",
    "temp.shape[1:]"
   ]
  },
  {
   "cell_type": "markdown",
   "metadata": {},
   "source": [
    "Creating our new model, we use\n",
    "Input -> Convolution (8 filters) -> Convolution (16 filters) -> Max Pool -> Dropout -> Fully Connected Layer -> Output"
   ]
  },
  {
   "cell_type": "code",
   "execution_count": 141,
   "metadata": {
    "collapsed": true,
    "scrolled": true
   },
   "outputs": [],
   "source": [
    "model1 = Sequential()\n",
    "model1.add(Conv2D(filters=8, kernel_size=(5, 5), padding='same', activation='relu', input_shape=temp.shape[1:]))\n",
    "model1.add(Conv2D(filters=16, kernel_size=(5, 5), padding='same', activation='relu'))\n",
    "model1.add(MaxPooling2D(pool_size=(2, 2)))\n",
    "model1.add(Dropout(0.2))\n",
    "model1.add(Flatten())\n",
    "model1.add(Dense(num_classes, activation='softmax'))\n",
    "model1.compile(optimizer='adam', loss='categorical_crossentropy', metrics=['accuracy', 'mse'])"
   ]
  },
  {
   "cell_type": "markdown",
   "metadata": {},
   "source": [
    "model.fit(x_train, y_train_target, epochs=20, batch_size=128)"
   ]
  },
  {
   "cell_type": "code",
   "execution_count": 145,
   "metadata": {},
   "outputs": [
    {
     "name": "stdout",
     "output_type": "stream",
     "text": [
      "Epoch 1/20\n",
      "33600/33600 [==============================] - 49s - loss: 0.0155 - acc: 0.9949 - mean_squared_error: 7.6767e-04    \n",
      "Epoch 2/20\n",
      "33600/33600 [==============================] - 49s - loss: 0.0143 - acc: 0.9952 - mean_squared_error: 7.2723e-04    \n",
      "Epoch 3/20\n",
      "33600/33600 [==============================] - 52s - loss: 0.0148 - acc: 0.9951 - mean_squared_error: 7.4066e-04    \n",
      "Epoch 4/20\n",
      "33600/33600 [==============================] - 53s - loss: 0.0153 - acc: 0.9951 - mean_squared_error: 7.5944e-04    \n",
      "Epoch 5/20\n",
      "33600/33600 [==============================] - 58s - loss: 0.0132 - acc: 0.9954 - mean_squared_error: 6.7255e-04    \n",
      "Epoch 6/20\n",
      "33600/33600 [==============================] - 52s - loss: 0.0127 - acc: 0.9959 - mean_squared_error: 6.4236e-04    \n",
      "Epoch 7/20\n",
      "33600/33600 [==============================] - 60s - loss: 0.0116 - acc: 0.9962 - mean_squared_error: 5.7963e-04    \n",
      "Epoch 8/20\n",
      "33600/33600 [==============================] - 59s - loss: 0.0108 - acc: 0.9965 - mean_squared_error: 5.3792e-04     ETA: 1s - loss: 0.0108 - acc: 0.9964 - mean_squared_err\n",
      "Epoch 9/20\n",
      "33600/33600 [==============================] - 53s - loss: 0.0101 - acc: 0.9969 - mean_squared_error: 4.9107e-04    \n",
      "Epoch 10/20\n",
      "33600/33600 [==============================] - 56s - loss: 0.0107 - acc: 0.9965 - mean_squared_error: 5.3165e-04    \n",
      "Epoch 11/20\n",
      "33600/33600 [==============================] - 54s - loss: 0.0106 - acc: 0.9963 - mean_squared_error: 5.4686e-04    \n",
      "Epoch 12/20\n",
      "33600/33600 [==============================] - 53s - loss: 0.0110 - acc: 0.9965 - mean_squared_error: 5.3709e-04    \n",
      "Epoch 13/20\n",
      "33600/33600 [==============================] - 51s - loss: 0.0113 - acc: 0.9962 - mean_squared_error: 5.7801e-04    \n",
      "Epoch 14/20\n",
      "33600/33600 [==============================] - 52s - loss: 0.0083 - acc: 0.9973 - mean_squared_error: 4.1013e-04    \n",
      "Epoch 15/20\n",
      "33600/33600 [==============================] - 51s - loss: 0.0093 - acc: 0.9973 - mean_squared_error: 4.3503e-04    \n",
      "Epoch 16/20\n",
      "33600/33600 [==============================] - 49s - loss: 0.0089 - acc: 0.9970 - mean_squared_error: 4.6222e-04    \n",
      "Epoch 17/20\n",
      "33600/33600 [==============================] - 49s - loss: 0.0106 - acc: 0.9965 - mean_squared_error: 5.2629e-04    \n",
      "Epoch 18/20\n",
      "33600/33600 [==============================] - 49s - loss: 0.0095 - acc: 0.9969 - mean_squared_error: 4.7648e-04    \n",
      "Epoch 19/20\n",
      "33600/33600 [==============================] - 58s - loss: 0.0072 - acc: 0.9977 - mean_squared_error: 3.4861e-04    \n",
      "Epoch 20/20\n",
      "33600/33600 [==============================] - 52s - loss: 0.0079 - acc: 0.9973 - mean_squared_error: 3.9912e-04    \n"
     ]
    },
    {
     "data": {
      "text/plain": [
       "<keras.callbacks.History at 0x164597f98>"
      ]
     },
     "execution_count": 145,
     "metadata": {},
     "output_type": "execute_result"
    }
   ],
   "source": [
    "model1.fit(np.reshape(x_train, [-1, 28, 28, 1]), y_train_target, epochs=20, batch_size=128)"
   ]
  },
  {
   "cell_type": "code",
   "execution_count": 146,
   "metadata": {},
   "outputs": [
    {
     "name": "stdout",
     "output_type": "stream",
     "text": [
      "8384/8400 [============================>.] - ETA: 0s"
     ]
    }
   ],
   "source": [
    "score = model1.evaluate(np.reshape(x_val, [8400, 28, 28, 1]), y_val_target)"
   ]
  },
  {
   "cell_type": "code",
   "execution_count": 147,
   "metadata": {},
   "outputs": [
    {
     "data": {
      "text/plain": [
       "[0.072567459017476119, 0.98654761904761901, 0.0023033204717112701]"
      ]
     },
     "execution_count": 147,
     "metadata": {},
     "output_type": "execute_result"
    }
   ],
   "source": [
    "score"
   ]
  },
  {
   "cell_type": "markdown",
   "metadata": {},
   "source": [
    "Accuracy we achieve is 98.65%"
   ]
  },
  {
   "cell_type": "markdown",
   "metadata": {},
   "source": [
    "One more attempt, to try get 99% accuracy!.\n",
    "This time we add more convolution layers\n",
    "\n",
    "Input -> Convolution (16 filters) -> Convolution (32 filters) -> Max Pooling -> Convolution (64 filters) -> Max Pooling -> Dropout -> Fully Connected Layer (256 nodes) -> Output"
   ]
  },
  {
   "cell_type": "code",
   "execution_count": 10,
   "metadata": {
    "collapsed": true
   },
   "outputs": [],
   "source": [
    "model2 = Sequential()\n",
    "model2.add(Conv2D(filters=16, kernel_size=(5, 5), padding='same', activation='relu', input_shape=temp.shape[1:]))\n",
    "model2.add(Conv2D(filters=32, kernel_size=(5, 5), padding='same', activation='relu'))\n",
    "model2.add(MaxPooling2D(pool_size=(2, 2)))\n",
    "model2.add(Conv2D(filters=64, kernel_size=(3, 3), padding='same', activation='relu'))\n",
    "model2.add(MaxPooling2D(pool_size=(2, 2)))\n",
    "model2.add(Dropout(0.25))\n",
    "model2.add(Flatten())\n",
    "model2.add(Dense(256, activation='relu'))\n",
    "model2.add(Dense(num_classes, activation='softmax'))\n",
    "model2.compile(optimizer='adam', loss='categorical_crossentropy', metrics=['accuracy', 'mse'])"
   ]
  },
  {
   "cell_type": "code",
   "execution_count": 160,
   "metadata": {},
   "outputs": [
    {
     "name": "stdout",
     "output_type": "stream",
     "text": [
      "Epoch 1/5\n",
      "33600/33600 [==============================] - 180s - loss: 0.0028 - acc: 0.9991 - mean_squared_error: 1.2157e-04   \n",
      "Epoch 2/5\n",
      "33600/33600 [==============================] - 184s - loss: 0.0034 - acc: 0.9991 - mean_squared_error: 1.4350e-04   \n",
      "Epoch 3/5\n",
      "33600/33600 [==============================] - 175s - loss: 0.0030 - acc: 0.9992 - mean_squared_error: 1.3297e-04   \n",
      "Epoch 4/5\n",
      "33600/33600 [==============================] - 183s - loss: 0.0057 - acc: 0.9986 - mean_squared_error: 2.3061e-04   \n",
      "Epoch 5/5\n",
      "33600/33600 [==============================] - 176s - loss: 0.0035 - acc: 0.9989 - mean_squared_error: 1.6809e-04   \n"
     ]
    }
   ],
   "source": [
    "history2 = model2.fit(np.reshape(x_train, [-1, 28, 28, 1]), y_train_target, epochs=5, batch_size=128)"
   ]
  },
  {
   "cell_type": "markdown",
   "metadata": {},
   "source": [
    "We achieved an accuracy of 99.14%! Let's test this on Kaggle's dataset and submit it!"
   ]
  },
  {
   "cell_type": "code",
   "execution_count": 161,
   "metadata": {
    "scrolled": false
   },
   "outputs": [
    {
     "name": "stdout",
     "output_type": "stream",
     "text": [
      "8384/8400 [============================>.] - ETA: 0s"
     ]
    },
    {
     "data": {
      "text/plain": [
       "[0.058286532414463181, 0.99142857142857144, 0.0014886209121354635]"
      ]
     },
     "metadata": {},
     "output_type": "display_data"
    }
   ],
   "source": [
    "display(model2.evaluate(np.reshape(x_val, [8400, 28, 28, 1]), y_val_target))"
   ]
  },
  {
   "cell_type": "markdown",
   "metadata": {},
   "source": [
    "1. Download \"test.csv\" from Kaggle \n",
    "2. Use our last model to make predictions on values\n",
    "3. Save the values into \"random.csv\" to be ready to submit!"
   ]
  },
  {
   "cell_type": "code",
   "execution_count": 163,
   "metadata": {
    "collapsed": true
   },
   "outputs": [],
   "source": [
    "x_test = pd.read_csv(\"test.csv\").values\n",
    "# Column 1: \"ImageId\"\n",
    "imageId = [(i+1) for i in range(x_test.shape[0])]\n",
    "\n",
    "# Column 2: \"Label\"\n",
    "predictions = model2.predict(np.reshape(x_test, [-1, 28, 28, 1]))\n",
    "results = np.argmax(predictions, axis=1)"
   ]
  },
  {
   "cell_type": "code",
   "execution_count": 164,
   "metadata": {
    "collapsed": true
   },
   "outputs": [],
   "source": [
    "# Save\n",
    "np.savetxt(\"random.csv\", X=np.c_[imageId, results], fmt='%i', delimiter=',', header=\"ImageId,Label\", comments='')"
   ]
  },
  {
   "cell_type": "code",
   "execution_count": 13,
   "metadata": {},
   "outputs": [
    {
     "data": {
      "image/svg+xml": [
       "<svg height=\"702pt\" viewBox=\"0.00 0.00 219.61 702.00\" width=\"220pt\" xmlns=\"http://www.w3.org/2000/svg\" xmlns:xlink=\"http://www.w3.org/1999/xlink\">\n",
       "<g class=\"graph\" id=\"graph0\" transform=\"scale(1 1) rotate(0) translate(4 698)\">\n",
       "<title>G</title>\n",
       "<polygon fill=\"#ffffff\" points=\"-4,4 -4,-698 215.6104,-698 215.6104,4 -4,4\" stroke=\"transparent\"/>\n",
       "<!-- 4811825336 -->\n",
       "<g class=\"node\" id=\"node1\">\n",
       "<title>4811825336</title>\n",
       "<polygon fill=\"none\" points=\"17.5171,-657.5 17.5171,-693.5 194.0933,-693.5 194.0933,-657.5 17.5171,-657.5\" stroke=\"#000000\"/>\n",
       "<text fill=\"#000000\" font-family=\"Times,serif\" font-size=\"14.00\" text-anchor=\"middle\" x=\"105.8052\" y=\"-671.3\">conv2d_1_input: InputLayer</text>\n",
       "</g>\n",
       "<!-- 4811878072 -->\n",
       "<g class=\"node\" id=\"node2\">\n",
       "<title>4811878072</title>\n",
       "<polygon fill=\"none\" points=\"42.7793,-584.5 42.7793,-620.5 168.8311,-620.5 168.8311,-584.5 42.7793,-584.5\" stroke=\"#000000\"/>\n",
       "<text fill=\"#000000\" font-family=\"Times,serif\" font-size=\"14.00\" text-anchor=\"middle\" x=\"105.8052\" y=\"-598.3\">conv2d_1: Conv2D</text>\n",
       "</g>\n",
       "<!-- 4811825336&#45;&gt;4811878072 -->\n",
       "<g class=\"edge\" id=\"edge1\">\n",
       "<title>4811825336-&gt;4811878072</title>\n",
       "<path d=\"M105.8052,-657.4551C105.8052,-649.3828 105.8052,-639.6764 105.8052,-630.6817\" fill=\"none\" stroke=\"#000000\"/>\n",
       "<polygon fill=\"#000000\" points=\"109.3053,-630.5903 105.8052,-620.5904 102.3053,-630.5904 109.3053,-630.5903\" stroke=\"#000000\"/>\n",
       "</g>\n",
       "<!-- 4811878184 -->\n",
       "<g class=\"node\" id=\"node3\">\n",
       "<title>4811878184</title>\n",
       "<polygon fill=\"none\" points=\"42.7793,-511.5 42.7793,-547.5 168.8311,-547.5 168.8311,-511.5 42.7793,-511.5\" stroke=\"#000000\"/>\n",
       "<text fill=\"#000000\" font-family=\"Times,serif\" font-size=\"14.00\" text-anchor=\"middle\" x=\"105.8052\" y=\"-525.3\">conv2d_2: Conv2D</text>\n",
       "</g>\n",
       "<!-- 4811878072&#45;&gt;4811878184 -->\n",
       "<g class=\"edge\" id=\"edge2\">\n",
       "<title>4811878072-&gt;4811878184</title>\n",
       "<path d=\"M105.8052,-584.4551C105.8052,-576.3828 105.8052,-566.6764 105.8052,-557.6817\" fill=\"none\" stroke=\"#000000\"/>\n",
       "<polygon fill=\"#000000\" points=\"109.3053,-557.5903 105.8052,-547.5904 102.3053,-557.5904 109.3053,-557.5903\" stroke=\"#000000\"/>\n",
       "</g>\n",
       "<!-- 4811826960 -->\n",
       "<g class=\"node\" id=\"node4\">\n",
       "<title>4811826960</title>\n",
       "<polygon fill=\"none\" points=\"0,-438.5 0,-474.5 211.6104,-474.5 211.6104,-438.5 0,-438.5\" stroke=\"#000000\"/>\n",
       "<text fill=\"#000000\" font-family=\"Times,serif\" font-size=\"14.00\" text-anchor=\"middle\" x=\"105.8052\" y=\"-452.3\">max_pooling2d_1: MaxPooling2D</text>\n",
       "</g>\n",
       "<!-- 4811878184&#45;&gt;4811826960 -->\n",
       "<g class=\"edge\" id=\"edge3\">\n",
       "<title>4811878184-&gt;4811826960</title>\n",
       "<path d=\"M105.8052,-511.4551C105.8052,-503.3828 105.8052,-493.6764 105.8052,-484.6817\" fill=\"none\" stroke=\"#000000\"/>\n",
       "<polygon fill=\"#000000\" points=\"109.3053,-484.5903 105.8052,-474.5904 102.3053,-484.5904 109.3053,-484.5903\" stroke=\"#000000\"/>\n",
       "</g>\n",
       "<!-- 4805004760 -->\n",
       "<g class=\"node\" id=\"node5\">\n",
       "<title>4805004760</title>\n",
       "<polygon fill=\"none\" points=\"42.7793,-365.5 42.7793,-401.5 168.8311,-401.5 168.8311,-365.5 42.7793,-365.5\" stroke=\"#000000\"/>\n",
       "<text fill=\"#000000\" font-family=\"Times,serif\" font-size=\"14.00\" text-anchor=\"middle\" x=\"105.8052\" y=\"-379.3\">conv2d_3: Conv2D</text>\n",
       "</g>\n",
       "<!-- 4811826960&#45;&gt;4805004760 -->\n",
       "<g class=\"edge\" id=\"edge4\">\n",
       "<title>4811826960-&gt;4805004760</title>\n",
       "<path d=\"M105.8052,-438.4551C105.8052,-430.3828 105.8052,-420.6764 105.8052,-411.6817\" fill=\"none\" stroke=\"#000000\"/>\n",
       "<polygon fill=\"#000000\" points=\"109.3053,-411.5903 105.8052,-401.5904 102.3053,-411.5904 109.3053,-411.5903\" stroke=\"#000000\"/>\n",
       "</g>\n",
       "<!-- 4797872840 -->\n",
       "<g class=\"node\" id=\"node6\">\n",
       "<title>4797872840</title>\n",
       "<polygon fill=\"none\" points=\"0,-292.5 0,-328.5 211.6104,-328.5 211.6104,-292.5 0,-292.5\" stroke=\"#000000\"/>\n",
       "<text fill=\"#000000\" font-family=\"Times,serif\" font-size=\"14.00\" text-anchor=\"middle\" x=\"105.8052\" y=\"-306.3\">max_pooling2d_2: MaxPooling2D</text>\n",
       "</g>\n",
       "<!-- 4805004760&#45;&gt;4797872840 -->\n",
       "<g class=\"edge\" id=\"edge5\">\n",
       "<title>4805004760-&gt;4797872840</title>\n",
       "<path d=\"M105.8052,-365.4551C105.8052,-357.3828 105.8052,-347.6764 105.8052,-338.6817\" fill=\"none\" stroke=\"#000000\"/>\n",
       "<polygon fill=\"#000000\" points=\"109.3053,-338.5903 105.8052,-328.5904 102.3053,-338.5904 109.3053,-338.5903\" stroke=\"#000000\"/>\n",
       "</g>\n",
       "<!-- 4811456184 -->\n",
       "<g class=\"node\" id=\"node7\">\n",
       "<title>4811456184</title>\n",
       "<polygon fill=\"none\" points=\"42.0034,-219.5 42.0034,-255.5 169.6069,-255.5 169.6069,-219.5 42.0034,-219.5\" stroke=\"#000000\"/>\n",
       "<text fill=\"#000000\" font-family=\"Times,serif\" font-size=\"14.00\" text-anchor=\"middle\" x=\"105.8052\" y=\"-233.3\">dropout_1: Dropout</text>\n",
       "</g>\n",
       "<!-- 4797872840&#45;&gt;4811456184 -->\n",
       "<g class=\"edge\" id=\"edge6\">\n",
       "<title>4797872840-&gt;4811456184</title>\n",
       "<path d=\"M105.8052,-292.4551C105.8052,-284.3828 105.8052,-274.6764 105.8052,-265.6817\" fill=\"none\" stroke=\"#000000\"/>\n",
       "<polygon fill=\"#000000\" points=\"109.3053,-265.5903 105.8052,-255.5904 102.3053,-265.5904 109.3053,-265.5903\" stroke=\"#000000\"/>\n",
       "</g>\n",
       "<!-- 4797854104 -->\n",
       "<g class=\"node\" id=\"node8\">\n",
       "<title>4797854104</title>\n",
       "<polygon fill=\"none\" points=\"50.1724,-146.5 50.1724,-182.5 161.438,-182.5 161.438,-146.5 50.1724,-146.5\" stroke=\"#000000\"/>\n",
       "<text fill=\"#000000\" font-family=\"Times,serif\" font-size=\"14.00\" text-anchor=\"middle\" x=\"105.8052\" y=\"-160.3\">flatten_1: Flatten</text>\n",
       "</g>\n",
       "<!-- 4811456184&#45;&gt;4797854104 -->\n",
       "<g class=\"edge\" id=\"edge7\">\n",
       "<title>4811456184-&gt;4797854104</title>\n",
       "<path d=\"M105.8052,-219.4551C105.8052,-211.3828 105.8052,-201.6764 105.8052,-192.6817\" fill=\"none\" stroke=\"#000000\"/>\n",
       "<polygon fill=\"#000000\" points=\"109.3053,-192.5903 105.8052,-182.5904 102.3053,-192.5904 109.3053,-192.5903\" stroke=\"#000000\"/>\n",
       "</g>\n",
       "<!-- 4811656328 -->\n",
       "<g class=\"node\" id=\"node9\">\n",
       "<title>4811656328</title>\n",
       "<polygon fill=\"none\" points=\"53.6792,-73.5 53.6792,-109.5 157.9312,-109.5 157.9312,-73.5 53.6792,-73.5\" stroke=\"#000000\"/>\n",
       "<text fill=\"#000000\" font-family=\"Times,serif\" font-size=\"14.00\" text-anchor=\"middle\" x=\"105.8052\" y=\"-87.3\">dense_1: Dense</text>\n",
       "</g>\n",
       "<!-- 4797854104&#45;&gt;4811656328 -->\n",
       "<g class=\"edge\" id=\"edge8\">\n",
       "<title>4797854104-&gt;4811656328</title>\n",
       "<path d=\"M105.8052,-146.4551C105.8052,-138.3828 105.8052,-128.6764 105.8052,-119.6817\" fill=\"none\" stroke=\"#000000\"/>\n",
       "<polygon fill=\"#000000\" points=\"109.3053,-119.5903 105.8052,-109.5904 102.3053,-119.5904 109.3053,-119.5903\" stroke=\"#000000\"/>\n",
       "</g>\n",
       "<!-- 4797922888 -->\n",
       "<g class=\"node\" id=\"node10\">\n",
       "<title>4797922888</title>\n",
       "<polygon fill=\"none\" points=\"53.6792,-.5 53.6792,-36.5 157.9312,-36.5 157.9312,-.5 53.6792,-.5\" stroke=\"#000000\"/>\n",
       "<text fill=\"#000000\" font-family=\"Times,serif\" font-size=\"14.00\" text-anchor=\"middle\" x=\"105.8052\" y=\"-14.3\">dense_2: Dense</text>\n",
       "</g>\n",
       "<!-- 4811656328&#45;&gt;4797922888 -->\n",
       "<g class=\"edge\" id=\"edge9\">\n",
       "<title>4811656328-&gt;4797922888</title>\n",
       "<path d=\"M105.8052,-73.4551C105.8052,-65.3828 105.8052,-55.6764 105.8052,-46.6817\" fill=\"none\" stroke=\"#000000\"/>\n",
       "<polygon fill=\"#000000\" points=\"109.3053,-46.5903 105.8052,-36.5904 102.3053,-46.5904 109.3053,-46.5903\" stroke=\"#000000\"/>\n",
       "</g>\n",
       "</g>\n",
       "</svg>"
      ],
      "text/plain": [
       "<IPython.core.display.SVG object>"
      ]
     },
     "execution_count": 13,
     "metadata": {},
     "output_type": "execute_result"
    }
   ],
   "source": [
    "# Model Visualisation\n",
    "SVG(model_to_dot(model2).create(prog='dot', format='svg'))"
   ]
  },
  {
   "cell_type": "code",
   "execution_count": null,
   "metadata": {
    "collapsed": true
   },
   "outputs": [],
   "source": []
  }
 ],
 "metadata": {
  "kernelspec": {
   "display_name": "Python 3",
   "language": "python",
   "name": "python3"
  },
  "language_info": {
   "codemirror_mode": {
    "name": "ipython",
    "version": 3
   },
   "file_extension": ".py",
   "mimetype": "text/x-python",
   "name": "python",
   "nbconvert_exporter": "python",
   "pygments_lexer": "ipython3",
   "version": "3.6.1"
  }
 },
 "nbformat": 4,
 "nbformat_minor": 2
}
